{
 "cells": [
  {
   "cell_type": "code",
   "execution_count": null,
   "id": "37611de7",
   "metadata": {},
   "outputs": [
    {
     "data": {
      "text/plain": [
       "(800, 800, 3)"
      ]
     },
     "execution_count": 37,
     "metadata": {},
     "output_type": "execute_result"
    }
   ],
   "source": [
    "import numpy as np\n",
    "import matplotlib.pyplot as plt\n",
    "\n",
    "my_board = np.zeros((800, 800, 3), np.uint8)\n",
    "for i in range(0, 800, 100):\n",
    "    for j in range(0, 800, 200):\n",
    "        j_start = j if (i % 200 == 0) else (j + 100)\n",
    "        my_board[i:i+100, j_start:j_start+100, :] = np.ones((100,100,3), np.uint8) * 255\n",
    "        \n",
    "plt.imsave(\"my_board.png\", my_board)"
   ]
  },
  {
   "cell_type": "code",
   "execution_count": 42,
   "id": "1342c728",
   "metadata": {},
   "outputs": [],
   "source": [
    "\n",
    "# import cv2 \n",
    "\n",
    "# background = \"../board.png\"\n",
    "# logo = \"../pieces/QW/states/jump/sprites/2.png\"\n",
    "# canvas = Img().read(background)  # original size\n",
    "# piece = Img().read(logo,\n",
    "#                     size=(100, 100),  # resize to 100×100\n",
    "#                     keep_aspect=True,  # keep aspect\n",
    "#                     interpolation=cv2.INTER_AREA)\n",
    "\n",
    "# h, w = canvas.img.shape[:2]\n",
    "# canvas.put_text(\"Demo\", h // 2, w // 2, 3.0,\n",
    "#                 color=(255, 0, 0, 255), thickness=5)  # blue text\n",
    "\n",
    "# piece.draw_on(canvas, 50, 50)  # blend top‑left\n",
    "# canvas.show()\n"
   ]
  }
 ],
 "metadata": {
  "kernelspec": {
   "display_name": "Python 3",
   "language": "python",
   "name": "python3"
  },
  "language_info": {
   "codemirror_mode": {
    "name": "ipython",
    "version": 3
   },
   "file_extension": ".py",
   "mimetype": "text/x-python",
   "name": "python",
   "nbconvert_exporter": "python",
   "pygments_lexer": "ipython3",
   "version": "3.11.0"
  }
 },
 "nbformat": 4,
 "nbformat_minor": 5
}
